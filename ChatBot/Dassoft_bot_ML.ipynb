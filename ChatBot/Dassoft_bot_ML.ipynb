{
 "cells": [
  {
   "cell_type": "code",
   "execution_count": 16,
   "id": "b96778c3",
   "metadata": {},
   "outputs": [
    {
     "name": "stdout",
     "output_type": "stream",
     "text": [
      "[(['color', 'theme'], \"The color theme section allows you to customize the appearance of your company's dashboard.\"), (['appearance', 'dashboard'], \"The color theme section allows you to customize the appearance of your company's dashboard.\"), (['change', 'color', 'dashboard'], \"The color theme section allows you to customize the appearance of your company's dashboard.\"), (['theme', 'dashboard'], \"The color theme section allows you to customize the appearance of your company's dashboard.\"), (['customize', 'dashboard'], \"The color theme section allows you to customize the appearance of your company's dashboard.\"), (['add', 'tax'], \"To add tax & delivery charges, 1st go to the dashboard section, then go to branch's page. Add the tax & delivery charges in the respective section and then at the right bottom, click on updated to save the changes.\"), (['add', 'delivery', 'charges'], \"To add tax & delivery charges, 1st go to the dashboard section, then go to branch's page. Add the tax & delivery charges in the respective section and then at the right bottom, click on updated to save the changes.\"), (['update', 'tax', 'charges'], \"To update tax & delivery charges, 1st go to the dashboard section, then go to branch's page. Add the tax & delivery charges in the respective section and then at the right bottom, click on updated to save the changes.\"), (['update', 'delivery', 'charges'], \"To update tax & delivery charges, 1st go to the dashboard section, then go to branch's page. Add the tax & delivery charges in the respective section and then at the right bottom, click on updated to save the changes.\"), ('tax', \"To add/update tax & delivery charges, 1st go to the dashboard section, then go to branch's page. Add the tax & delivery charges in the respective section and then at the right bottom, click on updated to save the changes.\"), ('delivery', \"To add/update tax & delivery charges, 1st go to the dashboard section, then go to branch's page. Add the tax & delivery charges in the respective section and then at the right bottom, click on updated to save the changes.\"), (['add', 'product'], \"To add a new product, 1st go to the dashboard section, then go to product's page. Click on 'Add Products and Category' button, choose category from the given ones or add a new category. Choose product from the given ones or add a new product.\"), (['new', 'product'], \"To add a new product, 1st go to the dashboard section, then go to product's page. Click on 'Add Products and Category' button, choose category from the given ones or add a new category. Choose product from the given ones or add a new product.\"), (['add', 'menu', 'item'], \"To add a new item in the menu, 1st go to the dashboard section, then go to product's page. Click on 'Add Products and Category' button, choose category from the given ones or add a new category. Choose product from the given ones or add a new product.\"), (['add', 'menu'], \"To add a new item in the menu, 1st go to the dashboard section, then go to product's page. Click on 'Add Products and Category' button, choose category from the given ones or add a new category. Choose product from the given ones or add a new product.\"), ('add', \"To add a new product, 1st go to the dashboard section, then go to product's page. Click on 'Add Products and Category' button, choose category from the given ones or add a new category. Choose product from the given ones or add a new product.\"), ('category', \"To add a new product, 1st go to the dashboard section, then go to product's page. Click on 'Add Products and Category' button, choose category from the given ones or add a new category. Choose product from the given ones or add a new product.\"), ('product', \"To add a new product, 1st go to the dashboard section, then go to product's page. Click on 'Add Products and Category' button, choose category from the given ones or add a new category. Choose product from the given ones or add a new product.\"), (['barcode', 'table'], 'The barcode on the table is used for customer scanning purpose. It is used for booking an order by a customer without interaction of the waiter.'), (['scan', 'table'], 'The barcode on the table is used for customer scanning purpose. It is used for booking an order by a customer without interaction of the waiter.'), (['order', 'barcode'], 'The barcode on the table is used for customer scanning purpose. It is used for booking an order by a customer without interaction of the waiter.'), (['qr', 'table'], 'The barcode on the table is used for customer scanning purpose. It is used for booking an order by a customer without interaction of the waiter.'), (['customer', 'barcode'], 'The barcode on the table is used for customer scanning purpose. It is used for booking an order by a customer without interaction of the waiter.'), (['manage', 'discount'], \"To manage discounts, go to the POS section, on the top right corner, you'll see a 'Manage Discounts' button. Click on it, adjust discounts, and then click on 'Submit' button to save the changes.\"), (['discount', 'button'], \"To manage discounts, go to the POS section, on the top right corner, you'll see a 'Manage Discounts' button. Click on it, adjust discounts, and then click on 'Submit' button to save the changes.\"), (['add', 'discount'], \"To manage discounts, go to the POS section, on the top right corner, you'll see a 'Manage Discounts' button. Click on it, adjust discounts, and then click on 'Submit' button to save the changes.\"), (['submit', 'discount'], \"To manage discounts, go to the POS section, on the top right corner, you'll see a 'Manage Discounts' button. Click on it, adjust discounts, and then click on 'Submit' button to save the changes.\"), (['update', 'discount'], \"To manage discounts, go to the POS section, on the top right corner, you'll see a 'Manage Discounts' button. Click on it, adjust discounts, and then click on 'Submit' button to save the changes.\"), (['change', 'logo'], \"To change/update/upload the logo, go to the dashboard > company page. Remove the current logo, add a new one, and click on 'Update' to save.\"), (['update', 'logo'], \"To change/update/upload the logo, go to the dashboard > company page. Remove the current logo, add a new one, and click on 'Update' to save.\"), (['add', 'logo'], \"To change/update/upload the logo, go to the dashboard > company page. Remove the current logo, add a new one, and click on 'Update' to save.\"), (['upload', 'logo'], \"To change/update/upload the logo, go to the dashboard > company page. Remove the current logo, add a new one, and click on 'Update' to save.\"), (['edit', 'logo'], \"To change/update/upload the logo, go to the dashboard > company page. Remove the current logo, add a new one, and click on 'Update' to save.\"), (['company', 'details'], \"To add company details, go to dashboard > company page. Add the description and click 'Update'.\"), (['company', 'description'], \"To add company details, go to dashboard > company page. Add the description and click 'Update'.\"), (['company', 'information'], \"To add company information, go to dashboard > company page. Add the description and click 'Update'.\"), (['company', 'info'], \"To add company information, go to dashboard > company page. Add the description and click 'Update'.\"), ('business', \"To add business description, go to dashboard > company page. Add the description and click 'Update'.\"), ('description', \"To add business description, go to dashboard > company page. Add the description and click 'Update'.\"), ('organization', \"To add organization details, go to dashboard > company page. Add the description and click 'Update'.\"), ('details', \"To add organization details, go to dashboard > company page. Add the description and click 'Update'.\"), ('update', \"To update company details, go to dashboard > company page. Add the description and click 'Update'.\"), ('company', \"To update company details, go to dashboard > company page. Add the description and click 'Update'.\"), ('details', \"To update company details, go to dashboard > company page. Add the description and click 'Update'.\"), (['update', 'address'], \"To add/update branch address, go to dashboard > branch page. Add name, city, area, then click 'Update'.\"), (['add', 'address'], \"To add/update branch address, go to dashboard > branch page. Add name, city, area, then click 'Update'.\"), ('change', \"To change branch address, go to dashboard > branch page. Add name, city, area, then click 'Update'.\"), ('location', \"To change branch address, go to dashboard > branch page. Add name, city, area, then click 'Update'.\"), ('update', \"To update branch location, go to dashboard > branch page. Add name, city, area, then click 'Update'.\"), ('location', \"To update branch location, go to dashboard > branch page. Add name, city, area, then click 'Update'.\"), ('edit', \"To edit branch address, go to dashboard > branch page. Add name, city, area, then click 'Update'.\"), ('address', \"To edit branch address, go to dashboard > branch page. Add name, city, area, then click 'Update'.\"), (['opening', 'closing', 'time'], 'To add/update/change opening/closing time, go to dashboard > branch page. Update time fields and save.'), (['opening', 'time'], 'To add/update/change opening/closing time, go to dashboard > branch page. Update time fields and save.'), (['closing', 'time'], 'To add/update/change opening/closing time, go to dashboard > branch page. Update time fields and save.'), (['business', 'hours'], 'To add/update/change opening/closing time, go to dashboard > branch page. Update time fields and save.'), (['working', 'hours'], 'To add/update/change opening/closing time, go to dashboard > branch page. Update time fields and save.'), (['shop', 'timing'], 'To add/update/change opening/closing time, go to dashboard > branch page. Update time fields and save.'), (['price', 'product'], \"To add/update/change product price, go to dashboard > product page. Choose a product, edit price and click 'Update'.\"), (['change', 'price'], \"To add/update/change product price, go to dashboard > product page. Choose a product, edit price and click 'Update'.\"), (['cost', 'item'], \"To add/update/change product price, go to dashboard > product page. Choose a product, edit price and click 'Update'.\"), (['update', 'product', 'price'], \"To add/update/change product price, go to dashboard > product page. Choose a product, edit price and click 'Update'.\"), (['price', 'menu'], \"To add/update/change product price, go to dashboard > product page. Choose a product, edit price and click 'Update'.\"), ('add', \"To add a new menu, go to dashboard > products page. Click 'Add Products and Category', select or create a category, then add your product.\"), ('menu', \"To add a new menu, go to dashboard > products page. Click 'Add Products and Category', select or create a category, then add your product.\"), ('update', \"To update a menu, go to dashboard > products page. Click 'Add Products and Category', select or create a category, then add your product.\"), ('menu', \"To update a menu, go to dashboard > products page. Click 'Add Products and Category', select or create a category, then add your product.\"), ('update', \"To update a product, go to dashboard > products page. Click 'Add Products and Category', select or create a category, then add your product.\"), ('product', \"To update a product, go to dashboard > products page. Click 'Add Products and Category', select or create a category, then add your product.\"), ('edit', \"To edit a menu, go to dashboard > products page. Click 'Add Products and Category', select or create a category, then add your product.\"), ('menu', \"To edit a menu, go to dashboard > products page. Click 'Add Products and Category', select or create a category, then add your product.\"), ('edit', \"To edit a product, go to dashboard > products page. Click 'Add Products and Category', select or create a category, then add your product.\"), ('product', \"To edit a product, go to dashboard > products page. Click 'Add Products and Category', select or create a category, then add your product.\"), (['delete', 'product'], 'To remove/delete a product, go to product page, click the bin icon, and confirm deletion.'), (['remove', 'product'], 'To remove/delete a product, go to product page, click the bin icon, and confirm deletion.'), (['delete', 'menu'], 'To remove/delete a product, go to product page, click the bin icon, and confirm deletion.'), (['remove', 'item'], 'To remove/delete a product, go to product page, click the bin icon, and confirm deletion.'), (['add', 'table'], \"To add a table, go to dashboard > tables. Click 'Add Table', choose seats, and confirm.\"), (['create', 'table'], \"To add a table, go to dashboard > tables. Click 'Add Table', choose seats, and confirm.\"), (['insert', 'table'], \"To add a table, go to dashboard > tables. Click 'Add Table', choose seats, and confirm.\"), (['delete', 'table'], 'To remove/delete a table, go to tables page, select the table, click delete, confirm action.'), (['remove', 'table'], 'To remove/delete a table, go to tables page, select the table, click delete, confirm action.'), (['edit', 'table', 'status'], \"To update table status, go to tables page, select table, update status, and click 'Update'.\"), (['table', 'status'], \"To update table status, go to tables page, select table, update status, and click 'Update'.\"), (['add', 'order'], \"To add/place an order, go to Orders > click 'Add Order'. Select products, add to cart, and click 'Place Order'.\"), (['create', 'order'], \"To add/place an order, go to Orders > click 'Add Order'. Select products, add to cart, and click 'Place Order'.\"), (['place', 'order'], \"To add/place an order, go to Orders > click 'Add Order'. Select products, add to cart, and click 'Place Order'.\"), (['track', 'order'], 'To track order status, go to Orders page. Check status column for updates.'), (['order', 'status'], 'To track order status, go to Orders page. Check status column for updates.'), (['where', 'order'], 'To track order status, go to Orders page. Check status column for updates.'), (['add', 'branch'], \"To add a branch, go to Branches > click 'Add Branch'. Enter info and click 'Submit'.\"), (['create', 'branch'], \"To add a branch, go to Branches > click 'Add Branch'. Enter info and click 'Submit'.\"), (['new', 'branch'], \"To add a branch, go to Branches > click 'Add Branch'. Enter info and click 'Submit'.\"), (['switch', 'branch'], \"To change/switch branch, go to Branches > click 'Set Current Branch'. Select branch and save.\"), (['change', 'branch'], \"To change/switch branch, go to Branches > click 'Set Current Branch'. Select branch and save.\"), (['set', 'branch'], \"To change/switch branch, go to Branches > click 'Set Current Branch'. Select branch and save.\"), (['delete', 'branch'], \"To remove/delete a branch, go to Branches > click 'Delete' next to the branch. Confirm action.\"), (['remove', 'branch'], \"To remove/delete a branch, go to Branches > click 'Delete' next to the branch. Confirm action.\"), (['sync', 'menu'], \"The 'Sync Menu' button synchronizes the menu with the selected branch.\"), (['synchronize', 'menu'], \"The 'Sync Menu' button synchronizes the menu with the selected branch.\"), (['same', 'menu'], \"The 'Sync Menu' button synchronizes the menu with the selected branch.\"), (['hi'], 'Hello, how can I help you?'), (['hello'], 'Hello, how can I help you?'), (['bye'], 'Goodbye, have a great day!'), (['goodbye'], 'Goodbye, have a great day!'), (['thank you'], \"You're welcome! If you have any more questions, feel free to ask.\"), (['thanks'], \"You're welcome! If you have any more questions, feel free to ask.\"), (['yes'], 'Great! How can I assist you further?'), (['sure'], 'Great! How can I assist you further?'), (['no'], 'Okay, let me know if you need anything else.'), (['not really'], 'Okay, let me know if you need anything else.'), (['add', 'company', 'name'], \"To add/update/change a company name, go to the dashboard > company page. Add the name and click 'Update'.\"), (['change', 'company', 'name'], \"To add/update/change a company name, go to the dashboard > company page. Add the name and click 'Update'.\"), (['update', 'company', 'name'], \"To add/update/change a company name, go to the dashboard > company page. Add the name and click 'Update'.\"), (['add', 'company', 'email'], \"To add/update/change a company email, go to the dashboard > company page. Add the email and click 'Update'.\"), (['change', 'company', 'email'], \"To add/update/change a company email, go to the dashboard > company page. Add the email and click 'Update'.\"), (['update', 'company', 'email'], \"To add/update/change a company email, go to the dashboard > company page. Add the email and click 'Update'.\"), (['add', 'company', 'phone'], \"To add/update/change a company phone number, go to the dashboard > company page. Add the phone number and click 'Update'.\"), (['change', 'company', 'phone'], \"To add/update/change a company phone number, go to the dashboard > company page. Add the phone number and click 'Update'.\"), (['update', 'company', 'phone'], \"To add/update/change a company phone number, go to the dashboard > company page. Add the phone number and click 'Update'.\"), (['change', 'company', 'color'], \"To change/update/add a company color, go to the dashboard > company page. Choose color from 'Choose Theme' section. Add the color and click 'Update'.\"), (['change', 'company', 'colour'], \"To change/update/add a company color, go to the dashboard > company page. Choose color from 'Choose Theme' section. Add the color and click 'Update'.\"), (['change', 'theme'], \"To change/update/add a company color, go to the dashboard > company page. Choose color from 'Choose Theme' section. Add the color and click 'Update'.\"), (['update', 'company', 'color'], \"To change/update/add a company color, go to the dashboard > company page. Choose color from 'Choose Theme' section. Add the color and click 'Update'.\"), (['add', 'company', 'color'], \"To change/update/add a company color, go to the dashboard > company page. Choose color from 'Choose Theme' section. Add the color and click 'Update'.\")]\n",
      "✅ Dataset created and saved as 'faq_dataset.csv'\n"
     ]
    }
   ],
   "source": [
    "import pandas as pd\n",
    "\n",
    "# Keyword-based responses\n",
    "grouped_faq_responses = [\n",
    "    (([\"color\", \"theme\"], [\"appearance\", \"dashboard\"], [\"change\", \"color\", \"dashboard\"], [\"theme\", \"dashboard\"], [\"customize\", \"dashboard\"]), \"The color theme section allows you to customize the appearance of your company's dashboard.\"),\n",
    "    (([\"add\", \"tax\"], [\"add\", \"delivery\", \"charges\"]), \"To add tax & delivery charges, 1st go to the dashboard section, then go to branch's page. Add the tax & delivery charges in the respective section and then at the right bottom, click on updated to save the changes.\"),\n",
    "    (([\"update\", \"tax\", \"charges\"], [\"update\", \"delivery\", \"charges\"]), \"To update tax & delivery charges, 1st go to the dashboard section, then go to branch's page. Add the tax & delivery charges in the respective section and then at the right bottom, click on updated to save the changes.\"),\n",
    "    ([\"tax\", \"delivery\"], \"To add/update tax & delivery charges, 1st go to the dashboard section, then go to branch's page. Add the tax & delivery charges in the respective section and then at the right bottom, click on updated to save the changes.\"),\n",
    "    (([\"add\", \"product\"], [\"new\", \"product\"]), \"To add a new product, 1st go to the dashboard section, then go to product's page. Click on 'Add Products and Category' button, choose category from the given ones or add a new category. Choose product from the given ones or add a new product.\"),\n",
    "    (([\"add\", \"menu\", \"item\"], [\"add\", \"menu\"]), \"To add a new item in the menu, 1st go to the dashboard section, then go to product's page. Click on 'Add Products and Category' button, choose category from the given ones or add a new category. Choose product from the given ones or add a new product.\"),\n",
    "    ([\"add\", \"category\", \"product\"], \"To add a new product, 1st go to the dashboard section, then go to product's page. Click on 'Add Products and Category' button, choose category from the given ones or add a new category. Choose product from the given ones or add a new product.\"),\n",
    "    (([\"barcode\", \"table\"], [\"scan\", \"table\"], [\"order\", \"barcode\"], [\"qr\", \"table\"], [\"customer\", \"barcode\"]), \"The barcode on the table is used for customer scanning purpose. It is used for booking an order by a customer without interaction of the waiter.\"),\n",
    "    (([\"manage\", \"discount\"], [\"discount\", \"button\"], [\"add\", \"discount\"], [\"submit\", \"discount\"], [\"update\", \"discount\"]), \"To manage discounts, go to the POS section, on the top right corner, you'll see a 'Manage Discounts' button. Click on it, adjust discounts, and then click on 'Submit' button to save the changes.\"),\n",
    "    (([\"change\", \"logo\"], [\"update\", \"logo\"], [\"add\", \"logo\"], [\"upload\", \"logo\"], [\"edit\", \"logo\"]), \"To change/update/upload the logo, go to the dashboard > company page. Remove the current logo, add a new one, and click on 'Update' to save.\"),\n",
    "    (([\"company\", \"details\"], [\"company\", \"description\"]), \"To add company details, go to dashboard > company page. Add the description and click 'Update'.\"),\n",
    "    (([\"company\", \"information\"], [\"company\", \"info\"]), \"To add company information, go to dashboard > company page. Add the description and click 'Update'.\"),\n",
    "    ([\"business\", \"description\"], \"To add business description, go to dashboard > company page. Add the description and click 'Update'.\"),\n",
    "    ([\"organization\", \"details\"], \"To add organization details, go to dashboard > company page. Add the description and click 'Update'.\"),\n",
    "    ([\"update\", \"company\", \"details\"], \"To update company details, go to dashboard > company page. Add the description and click 'Update'.\"),\n",
    "    (([\"update\", \"address\"], [\"add\", \"address\"]), \"To add/update branch address, go to dashboard > branch page. Add name, city, area, then click 'Update'.\"),\n",
    "    ([\"change\", \"location\"], \"To change branch address, go to dashboard > branch page. Add name, city, area, then click 'Update'.\"),\n",
    "    ([\"update\", \"location\"], \"To update branch location, go to dashboard > branch page. Add name, city, area, then click 'Update'.\"),\n",
    "    ([\"edit\", \"address\"], \"To edit branch address, go to dashboard > branch page. Add name, city, area, then click 'Update'.\"),\n",
    "    (([\"opening\", \"closing\", \"time\"], [\"opening\", \"time\"], [\"closing\", \"time\"], [\"business\", \"hours\"], [\"working\", \"hours\"], [\"shop\", \"timing\"]), \"To add/update/change opening/closing time, go to dashboard > branch page. Update time fields and save.\"),\n",
    "    (([\"price\", \"product\"], [\"change\", \"price\"], [\"cost\", \"item\"], [\"update\", \"product\", \"price\"], [\"price\", \"menu\"]), \"To add/update/change product price, go to dashboard > product page. Choose a product, edit price and click 'Update'.\"),\n",
    "    ([\"add\", \"menu\"], \"To add a new menu, go to dashboard > products page. Click 'Add Products and Category', select or create a category, then add your product.\"),    \n",
    "    ([\"update\", \"menu\"], \"To update a menu, go to dashboard > products page. Click 'Add Products and Category', select or create a category, then add your product.\"),\n",
    "    ([\"update\", \"product\"], \"To update a product, go to dashboard > products page. Click 'Add Products and Category', select or create a category, then add your product.\"),    \n",
    "    ([\"edit\", \"menu\"], \"To edit a menu, go to dashboard > products page. Click 'Add Products and Category', select or create a category, then add your product.\"),\n",
    "    ([\"edit\", \"product\"], \"To edit a product, go to dashboard > products page. Click 'Add Products and Category', select or create a category, then add your product.\"),\n",
    "    (([\"delete\", \"product\"], [\"remove\", \"product\"], [\"delete\", \"menu\"], [\"remove\", \"item\"]), \"To remove/delete a product, go to product page, click the bin icon, and confirm deletion.\"),\n",
    "    (([\"add\", \"table\"], [\"create\", \"table\"], [\"insert\", \"table\"]), \"To add a table, go to dashboard > tables. Click 'Add Table', choose seats, and confirm.\"),\n",
    "    (([\"delete\", \"table\"], [\"remove\", \"table\"]), \"To remove/delete a table, go to tables page, select the table, click delete, confirm action.\"),\n",
    "    (([\"edit\", \"table\", \"status\"], [\"table\", \"status\"]), \"To update table status, go to tables page, select table, update status, and click 'Update'.\"),\n",
    "    (([\"add\", \"order\"], [\"create\", \"order\"], [\"place\", \"order\"]), \"To add/place an order, go to Orders > click 'Add Order'. Select products, add to cart, and click 'Place Order'.\"),\n",
    "    (([\"track\", \"order\"], [\"order\", \"status\"], [\"where\", \"order\"]), \"To track order status, go to Orders page. Check status column for updates.\"),\n",
    "    (([\"add\", \"branch\"], [\"create\", \"branch\"], [\"new\", \"branch\"]), \"To add a branch, go to Branches > click 'Add Branch'. Enter info and click 'Submit'.\"),\n",
    "    (([\"switch\", \"branch\"], [\"change\", \"branch\"], [\"set\", \"branch\"]), \"To change/switch branch, go to Branches > click 'Set Current Branch'. Select branch and save.\"),\n",
    "    (([\"delete\", \"branch\"], [\"remove\", \"branch\"]), \"To remove/delete a branch, go to Branches > click 'Delete' next to the branch. Confirm action.\"),\n",
    "    (([\"sync\", \"menu\"], [\"synchronize\", \"menu\"], [\"same\", \"menu\"]), \"The 'Sync Menu' button synchronizes the menu with the selected branch.\"),\n",
    "    (([\"hi\"], [\"hello\"]), \"Hello, how can I help you?\"),\n",
    "    (([\"bye\"], [\"goodbye\"]), \"Goodbye, have a great day!\"),\n",
    "    (([\"thank you\"], [\"thanks\"]), \"You're welcome! If you have any more questions, feel free to ask.\"),\n",
    "    (([\"yes\"], [\"sure\"]), \"Great! How can I assist you further?\"),\n",
    "    (([\"no\"], [\"not really\"]), \"Okay, let me know if you need anything else.\"),\n",
    "    (([\"add\", \"company\", \"name\"], [\"change\", \"company\", \"name\"], [\"update\", \"company\", \"name\"]), \"To add/update/change a company name, go to the dashboard > company page. Add the name and click 'Update'.\"),\n",
    "    (([\"add\", \"company\", \"email\"], [\"change\", \"company\", \"email\"], [\"update\", \"company\", \"email\"]), \"To add/update/change a company email, go to the dashboard > company page. Add the email and click 'Update'.\"),\n",
    "    (([\"add\", \"company\", \"phone\"], [\"change\", \"company\", \"phone\"], [\"update\", \"company\", \"phone\"]), \"To add/update/change a company phone number, go to the dashboard > company page. Add the phone number and click 'Update'.\"),\n",
    "    (([\"change\", \"company\", \"color\"], [\"change\", \"company\", \"colour\"], [\"change\", \"theme\"], [\"update\", \"company\", \"color\"], [\"add\", \"company\", \"color\"]), \"To change/update/add a company color, go to the dashboard > company page. Choose color from 'Choose Theme' section. Add the color and click 'Update'.\")\n",
    "    ]\n",
    "\n",
    "data = []\n",
    "for keywords_list, response in grouped_faq_responses:\n",
    "    for keyword in keywords_list:\n",
    "        data.append((keyword, response))\n",
    "\n",
    "print(data)# Build and save DataFrame\n",
    "faq_df = pd.DataFrame(data, columns=[\"Question_Keywords\", \"Answers\"])\n",
    "\n",
    "# Save to CSV\n",
    "faq_df.to_csv(\"faq_dataset.csv\", index=False)\n",
    "\n",
    "print(\"✅ Dataset created and saved as 'faq_dataset.csv'\")"
   ]
  },
  {
   "cell_type": "markdown",
   "id": "9ae5f3c8",
   "metadata": {},
   "source": [
    "# For app1.py "
   ]
  },
  {
   "cell_type": "code",
   "execution_count": 26,
   "id": "32eea851",
   "metadata": {},
   "outputs": [
    {
     "name": "stderr",
     "output_type": "stream",
     "text": [
      "C:\\Users\\junai\\AppData\\Local\\Packages\\PythonSoftwareFoundation.Python.3.12_qbz5n2kfra8p0\\LocalCache\\local-packages\\Python312\\site-packages\\sklearn\\feature_extraction\\text.py:521: UserWarning: The parameter 'token_pattern' will not be used since 'tokenizer' is not None'\n",
      "  warnings.warn(\n"
     ]
    },
    {
     "name": "stdout",
     "output_type": "stream",
     "text": [
      "Model Accuracy: 0.44\n",
      "Classification Report:\n",
      "                                                                                                                                                                                                                                                     precision    recall  f1-score   support\n",
      "\n",
      "                                                                                                                                                                                                                        Hello, how can I help you?       0.00      0.00      0.00         1\n",
      "                                                                                                                                                                                                      Okay, let me know if you need anything else.       0.00      0.00      0.00         0\n",
      "                                                                                                  The barcode on the table is used for customer scanning purpose. It is used for booking an order by a customer without interaction of the waiter.       0.00      0.00      0.00         2\n",
      "                                                                                                                                                       The color theme section allows you to customize the appearance of your company's dashboard.       1.00      0.50      0.67         2\n",
      "                                                                                                                                                              To add a branch, go to Branches > click 'Add Branch'. Enter info and click 'Submit'.       0.00      0.00      0.00         1\n",
      "To add a new product, 1st go to the dashboard section, then go to product's page. Click on 'Add Products and Category' button, choose category from the given ones or add a new category. Choose product from the given ones or add a new product.       0.00      0.00      0.00         1\n",
      "                                                                                                                                                           To add a table, go to dashboard > tables. Click 'Add Table', choose seats, and confirm.       0.00      0.00      0.00         2\n",
      "                                                                                                                                                   To add company details, go to dashboard > company page. Add the description and click 'Update'.       0.00      0.00      0.00         0\n",
      "                                                                                                                                               To add company information, go to dashboard > company page. Add the description and click 'Update'.       0.00      0.00      0.00         1\n",
      "                                                                                                                                           To add/update branch address, go to dashboard > branch page. Add name, city, area, then click 'Update'.       1.00      1.00      1.00         1\n",
      "                     To add/update tax & delivery charges, 1st go to the dashboard section, then go to branch's page. Add the tax & delivery charges in the respective section and then at the right bottom, click on updated to save the changes.       0.00      0.00      0.00         1\n",
      "                                                                                                                                       To add/update/change a company email, go to the dashboard > company page. Add the email and click 'Update'.       1.00      1.00      1.00         2\n",
      "                                                                                                                                            To add/update/change opening/closing time, go to dashboard > branch page. Update time fields and save.       1.00      1.00      1.00         2\n",
      "                                                                                                                              To add/update/change product price, go to dashboard > product page. Choose a product, edit price and click 'Update'.       0.00      0.00      0.00         0\n",
      "                                                                                                                                               To change branch address, go to dashboard > branch page. Add name, city, area, then click 'Update'.       0.00      0.00      0.00         1\n",
      "                                                                                                                                                     To change/switch branch, go to Branches > click 'Set Current Branch'. Select branch and save.       0.33      1.00      0.50         1\n",
      "                                                                                             To change/update/add a company color, go to the dashboard > company page. Choose color from 'Choose Theme' section. Add the color and click 'Update'.       0.50      1.00      0.67         1\n",
      "                                                                                                      To change/update/upload the logo, go to the dashboard > company page. Remove the current logo, add a new one, and click on 'Update' to save.       1.00      1.00      1.00         1\n",
      "                                                To manage discounts, go to the POS section, on the top right corner, you'll see a 'Manage Discounts' button. Click on it, adjust discounts, and then click on 'Submit' button to save the changes.       1.00      1.00      1.00         2\n",
      "                                                                                                                                                    To remove/delete a branch, go to Branches > click 'Delete' next to the branch. Confirm action.       0.00      0.00      0.00         1\n",
      "                                                                                                                                                         To remove/delete a product, go to product page, click the bin icon, and confirm deletion.       0.00      0.00      0.00         1\n",
      "                                                                                                                                                      To remove/delete a table, go to tables page, select the table, click delete, confirm action.       0.00      0.00      0.00         0\n",
      "                                                                                                                                              To update branch location, go to dashboard > branch page. Add name, city, area, then click 'Update'.       0.00      0.00      0.00         0\n",
      "                                                                                                                                                To update company details, go to dashboard > company page. Add the description and click 'Update'.       0.00      0.00      0.00         1\n",
      "\n",
      "                                                                                                                                                                                                                                          accuracy                           0.44        25\n",
      "                                                                                                                                                                                                                                         macro avg       0.28      0.31      0.28        25\n",
      "                                                                                                                                                                                                                                      weighted avg       0.43      0.44      0.42        25\n",
      "\n"
     ]
    },
    {
     "name": "stderr",
     "output_type": "stream",
     "text": [
      "C:\\Users\\junai\\AppData\\Local\\Packages\\PythonSoftwareFoundation.Python.3.12_qbz5n2kfra8p0\\LocalCache\\local-packages\\Python312\\site-packages\\sklearn\\metrics\\_classification.py:1531: UndefinedMetricWarning: Precision is ill-defined and being set to 0.0 in labels with no predicted samples. Use `zero_division` parameter to control this behavior.\n",
      "  _warn_prf(average, modifier, f\"{metric.capitalize()} is\", len(result))\n",
      "C:\\Users\\junai\\AppData\\Local\\Packages\\PythonSoftwareFoundation.Python.3.12_qbz5n2kfra8p0\\LocalCache\\local-packages\\Python312\\site-packages\\sklearn\\metrics\\_classification.py:1531: UndefinedMetricWarning: Recall is ill-defined and being set to 0.0 in labels with no true samples. Use `zero_division` parameter to control this behavior.\n",
      "  _warn_prf(average, modifier, f\"{metric.capitalize()} is\", len(result))\n",
      "C:\\Users\\junai\\AppData\\Local\\Packages\\PythonSoftwareFoundation.Python.3.12_qbz5n2kfra8p0\\LocalCache\\local-packages\\Python312\\site-packages\\sklearn\\metrics\\_classification.py:1531: UndefinedMetricWarning: Precision is ill-defined and being set to 0.0 in labels with no predicted samples. Use `zero_division` parameter to control this behavior.\n",
      "  _warn_prf(average, modifier, f\"{metric.capitalize()} is\", len(result))\n",
      "C:\\Users\\junai\\AppData\\Local\\Packages\\PythonSoftwareFoundation.Python.3.12_qbz5n2kfra8p0\\LocalCache\\local-packages\\Python312\\site-packages\\sklearn\\metrics\\_classification.py:1531: UndefinedMetricWarning: Recall is ill-defined and being set to 0.0 in labels with no true samples. Use `zero_division` parameter to control this behavior.\n",
      "  _warn_prf(average, modifier, f\"{metric.capitalize()} is\", len(result))\n",
      "C:\\Users\\junai\\AppData\\Local\\Packages\\PythonSoftwareFoundation.Python.3.12_qbz5n2kfra8p0\\LocalCache\\local-packages\\Python312\\site-packages\\sklearn\\metrics\\_classification.py:1531: UndefinedMetricWarning: Precision is ill-defined and being set to 0.0 in labels with no predicted samples. Use `zero_division` parameter to control this behavior.\n",
      "  _warn_prf(average, modifier, f\"{metric.capitalize()} is\", len(result))\n",
      "C:\\Users\\junai\\AppData\\Local\\Packages\\PythonSoftwareFoundation.Python.3.12_qbz5n2kfra8p0\\LocalCache\\local-packages\\Python312\\site-packages\\sklearn\\metrics\\_classification.py:1531: UndefinedMetricWarning: Recall is ill-defined and being set to 0.0 in labels with no true samples. Use `zero_division` parameter to control this behavior.\n",
      "  _warn_prf(average, modifier, f\"{metric.capitalize()} is\", len(result))\n"
     ]
    }
   ],
   "source": [
    "import pandas as pd\n",
    "from sklearn.feature_extraction.text import CountVectorizer\n",
    "from sklearn.ensemble import RandomForestClassifier\n",
    "from sklearn.model_selection import train_test_split\n",
    "from sklearn.metrics import accuracy_score, classification_report\n",
    "\n",
    "# Load data\n",
    "def load_data():\n",
    "    return pd.read_csv(\"faq_dataset.csv\")\n",
    "\n",
    "faq_df = load_data()\n",
    "\n",
    "# Preprocessing\n",
    "faq_df.dropna(subset=[\"Question_Keywords\", \"Answers\"], inplace=True)\n",
    "X_raw = faq_df[\"Question_Keywords\"]\n",
    "y = faq_df[\"Answers\"]\n",
    "\n",
    "# Convert text keywords to vector format\n",
    "# Define a named tokenizer function\n",
    "def custom_tokenizer(text):\n",
    "    return text.split(\",\")\n",
    "\n",
    "# Use it in CountVectorizer\n",
    "vectorizer = CountVectorizer(tokenizer=custom_tokenizer)\n",
    "\n",
    "X = vectorizer.fit_transform(X_raw)\n",
    "\n",
    "# Train/Test Split\n",
    "X_train, X_test, y_train, y_test = train_test_split(X, y, test_size=0.2, random_state=42)\n",
    "\n",
    "# Train model\n",
    "model = RandomForestClassifier(n_estimators=100, random_state=42)\n",
    "model.fit(X_train, y_train)\n",
    "\n",
    "# Predict on test set\n",
    "y_pred = model.predict(X_test)\n",
    "\n",
    "# Evaluate model\n",
    "accuracy = accuracy_score(y_test, y_pred)\n",
    "report = classification_report(y_test, y_pred)\n",
    "\n",
    "print(f\"Model Accuracy: {accuracy:.2f}\")\n",
    "print(\"Classification Report:\\n\", report)"
   ]
  },
  {
   "cell_type": "code",
   "execution_count": 27,
   "id": "2ce4a740",
   "metadata": {},
   "outputs": [
    {
     "data": {
      "text/plain": [
       "['faq_vectorizer2.pkl']"
      ]
     },
     "execution_count": 27,
     "metadata": {},
     "output_type": "execute_result"
    }
   ],
   "source": [
    "import joblib\n",
    "\n",
    "# Save the model and vectorizer\n",
    "joblib.dump(model, \"faq_model2.pkl\")\n",
    "joblib.dump(vectorizer, \"faq_vectorizer2.pkl\")"
   ]
  },
  {
   "cell_type": "code",
   "execution_count": 17,
   "id": "b7909fbc",
   "metadata": {},
   "outputs": [
    {
     "data": {
      "text/html": [
       "<div>\n",
       "<style scoped>\n",
       "    .dataframe tbody tr th:only-of-type {\n",
       "        vertical-align: middle;\n",
       "    }\n",
       "\n",
       "    .dataframe tbody tr th {\n",
       "        vertical-align: top;\n",
       "    }\n",
       "\n",
       "    .dataframe thead th {\n",
       "        text-align: right;\n",
       "    }\n",
       "</style>\n",
       "<table border=\"1\" class=\"dataframe\">\n",
       "  <thead>\n",
       "    <tr style=\"text-align: right;\">\n",
       "      <th></th>\n",
       "      <th>Question_Keywords</th>\n",
       "      <th>Answers</th>\n",
       "    </tr>\n",
       "  </thead>\n",
       "  <tbody>\n",
       "    <tr>\n",
       "      <th>count</th>\n",
       "      <td>125</td>\n",
       "      <td>125</td>\n",
       "    </tr>\n",
       "    <tr>\n",
       "      <th>unique</th>\n",
       "      <td>113</td>\n",
       "      <td>44</td>\n",
       "    </tr>\n",
       "    <tr>\n",
       "      <th>top</th>\n",
       "      <td>update</td>\n",
       "      <td>To add/update/change opening/closing time, go ...</td>\n",
       "    </tr>\n",
       "    <tr>\n",
       "      <th>freq</th>\n",
       "      <td>4</td>\n",
       "      <td>6</td>\n",
       "    </tr>\n",
       "  </tbody>\n",
       "</table>\n",
       "</div>"
      ],
      "text/plain": [
       "       Question_Keywords                                            Answers\n",
       "count                125                                                125\n",
       "unique               113                                                 44\n",
       "top               update  To add/update/change opening/closing time, go ...\n",
       "freq                   4                                                  6"
      ]
     },
     "execution_count": 17,
     "metadata": {},
     "output_type": "execute_result"
    }
   ],
   "source": [
    "data = pd.read_csv(\"faq_dataset.csv\")\n",
    "data.describe()"
   ]
  },
  {
   "cell_type": "code",
   "execution_count": null,
   "id": "f99052ce",
   "metadata": {},
   "outputs": [
    {
     "name": "stdout",
     "output_type": "stream",
     "text": [
      "                  Question_Keywords  \\\n",
      "0                ['color', 'theme']   \n",
      "1       ['appearance', 'dashboard']   \n",
      "2  ['change', 'color', 'dashboard']   \n",
      "3            ['theme', 'dashboard']   \n",
      "4        ['customize', 'dashboard']   \n",
      "\n",
      "                                             Answers  \n",
      "0  The color theme section allows you to customiz...  \n",
      "1  The color theme section allows you to customiz...  \n",
      "2  The color theme section allows you to customiz...  \n",
      "3  The color theme section allows you to customiz...  \n",
      "4  The color theme section allows you to customiz...  \n"
     ]
    },
    {
     "ename": "ValueError",
     "evalue": "malformed node or string on line 1: <ast.Name object at 0x000001D199DDA610>",
     "output_type": "error",
     "traceback": [
      "\u001b[1;31m---------------------------------------------------------------------------\u001b[0m",
      "\u001b[1;31mValueError\u001b[0m                                Traceback (most recent call last)",
      "Cell \u001b[1;32mIn[19], line 11\u001b[0m\n\u001b[0;32m      7\u001b[0m \u001b[38;5;28mprint\u001b[39m(data\u001b[38;5;241m.\u001b[39mhead())\n\u001b[0;32m      9\u001b[0m \u001b[38;5;66;03m# Step 1: Convert keywords list to a string\u001b[39;00m\n\u001b[0;32m     10\u001b[0m \u001b[38;5;66;03m# The keywords column is stored as a stringified list, so we need to convert it properly\u001b[39;00m\n\u001b[1;32m---> 11\u001b[0m data[\u001b[38;5;124m\"\u001b[39m\u001b[38;5;124mQuestion_Keywords\u001b[39m\u001b[38;5;124m\"\u001b[39m] \u001b[38;5;241m=\u001b[39m \u001b[43mdata\u001b[49m\u001b[43m[\u001b[49m\u001b[38;5;124;43m\"\u001b[39;49m\u001b[38;5;124;43mQuestion_Keywords\u001b[39;49m\u001b[38;5;124;43m\"\u001b[39;49m\u001b[43m]\u001b[49m\u001b[38;5;241;43m.\u001b[39;49m\u001b[43mapply\u001b[49m\u001b[43m(\u001b[49m\u001b[38;5;28;43;01mlambda\u001b[39;49;00m\u001b[43m \u001b[49m\u001b[43mx\u001b[49m\u001b[43m:\u001b[49m\u001b[43m \u001b[49m\u001b[38;5;124;43m\"\u001b[39;49m\u001b[38;5;124;43m \u001b[39;49m\u001b[38;5;124;43m\"\u001b[39;49m\u001b[38;5;241;43m.\u001b[39;49m\u001b[43mjoin\u001b[49m\u001b[43m(\u001b[49m\u001b[43mast\u001b[49m\u001b[38;5;241;43m.\u001b[39;49m\u001b[43mliteral_eval\u001b[49m\u001b[43m(\u001b[49m\u001b[43mx\u001b[49m\u001b[43m)\u001b[49m\u001b[43m)\u001b[49m\u001b[43m)\u001b[49m\n\u001b[0;32m     13\u001b[0m \u001b[38;5;66;03m# Step 2: Lowercase + remove punctuation (optional)\u001b[39;00m\n\u001b[0;32m     14\u001b[0m \u001b[38;5;28;01mdef\u001b[39;00m \u001b[38;5;21mclean_text\u001b[39m(text):\n",
      "File \u001b[1;32m~\\AppData\\Local\\Packages\\PythonSoftwareFoundation.Python.3.12_qbz5n2kfra8p0\\LocalCache\\local-packages\\Python312\\site-packages\\pandas\\core\\series.py:4924\u001b[0m, in \u001b[0;36mSeries.apply\u001b[1;34m(self, func, convert_dtype, args, by_row, **kwargs)\u001b[0m\n\u001b[0;32m   4789\u001b[0m \u001b[38;5;28;01mdef\u001b[39;00m \u001b[38;5;21mapply\u001b[39m(\n\u001b[0;32m   4790\u001b[0m     \u001b[38;5;28mself\u001b[39m,\n\u001b[0;32m   4791\u001b[0m     func: AggFuncType,\n\u001b[1;32m   (...)\u001b[0m\n\u001b[0;32m   4796\u001b[0m     \u001b[38;5;241m*\u001b[39m\u001b[38;5;241m*\u001b[39mkwargs,\n\u001b[0;32m   4797\u001b[0m ) \u001b[38;5;241m-\u001b[39m\u001b[38;5;241m>\u001b[39m DataFrame \u001b[38;5;241m|\u001b[39m Series:\n\u001b[0;32m   4798\u001b[0m \u001b[38;5;250m    \u001b[39m\u001b[38;5;124;03m\"\"\"\u001b[39;00m\n\u001b[0;32m   4799\u001b[0m \u001b[38;5;124;03m    Invoke function on values of Series.\u001b[39;00m\n\u001b[0;32m   4800\u001b[0m \n\u001b[1;32m   (...)\u001b[0m\n\u001b[0;32m   4915\u001b[0m \u001b[38;5;124;03m    dtype: float64\u001b[39;00m\n\u001b[0;32m   4916\u001b[0m \u001b[38;5;124;03m    \"\"\"\u001b[39;00m\n\u001b[0;32m   4917\u001b[0m     \u001b[38;5;28;01mreturn\u001b[39;00m \u001b[43mSeriesApply\u001b[49m\u001b[43m(\u001b[49m\n\u001b[0;32m   4918\u001b[0m \u001b[43m        \u001b[49m\u001b[38;5;28;43mself\u001b[39;49m\u001b[43m,\u001b[49m\n\u001b[0;32m   4919\u001b[0m \u001b[43m        \u001b[49m\u001b[43mfunc\u001b[49m\u001b[43m,\u001b[49m\n\u001b[0;32m   4920\u001b[0m \u001b[43m        \u001b[49m\u001b[43mconvert_dtype\u001b[49m\u001b[38;5;241;43m=\u001b[39;49m\u001b[43mconvert_dtype\u001b[49m\u001b[43m,\u001b[49m\n\u001b[0;32m   4921\u001b[0m \u001b[43m        \u001b[49m\u001b[43mby_row\u001b[49m\u001b[38;5;241;43m=\u001b[39;49m\u001b[43mby_row\u001b[49m\u001b[43m,\u001b[49m\n\u001b[0;32m   4922\u001b[0m \u001b[43m        \u001b[49m\u001b[43margs\u001b[49m\u001b[38;5;241;43m=\u001b[39;49m\u001b[43margs\u001b[49m\u001b[43m,\u001b[49m\n\u001b[0;32m   4923\u001b[0m \u001b[43m        \u001b[49m\u001b[43mkwargs\u001b[49m\u001b[38;5;241;43m=\u001b[39;49m\u001b[43mkwargs\u001b[49m\u001b[43m,\u001b[49m\n\u001b[1;32m-> 4924\u001b[0m \u001b[43m    \u001b[49m\u001b[43m)\u001b[49m\u001b[38;5;241;43m.\u001b[39;49m\u001b[43mapply\u001b[49m\u001b[43m(\u001b[49m\u001b[43m)\u001b[49m\n",
      "File \u001b[1;32m~\\AppData\\Local\\Packages\\PythonSoftwareFoundation.Python.3.12_qbz5n2kfra8p0\\LocalCache\\local-packages\\Python312\\site-packages\\pandas\\core\\apply.py:1427\u001b[0m, in \u001b[0;36mSeriesApply.apply\u001b[1;34m(self)\u001b[0m\n\u001b[0;32m   1424\u001b[0m     \u001b[38;5;28;01mreturn\u001b[39;00m \u001b[38;5;28mself\u001b[39m\u001b[38;5;241m.\u001b[39mapply_compat()\n\u001b[0;32m   1426\u001b[0m \u001b[38;5;66;03m# self.func is Callable\u001b[39;00m\n\u001b[1;32m-> 1427\u001b[0m \u001b[38;5;28;01mreturn\u001b[39;00m \u001b[38;5;28;43mself\u001b[39;49m\u001b[38;5;241;43m.\u001b[39;49m\u001b[43mapply_standard\u001b[49m\u001b[43m(\u001b[49m\u001b[43m)\u001b[49m\n",
      "File \u001b[1;32m~\\AppData\\Local\\Packages\\PythonSoftwareFoundation.Python.3.12_qbz5n2kfra8p0\\LocalCache\\local-packages\\Python312\\site-packages\\pandas\\core\\apply.py:1507\u001b[0m, in \u001b[0;36mSeriesApply.apply_standard\u001b[1;34m(self)\u001b[0m\n\u001b[0;32m   1501\u001b[0m \u001b[38;5;66;03m# row-wise access\u001b[39;00m\n\u001b[0;32m   1502\u001b[0m \u001b[38;5;66;03m# apply doesn't have a `na_action` keyword and for backward compat reasons\u001b[39;00m\n\u001b[0;32m   1503\u001b[0m \u001b[38;5;66;03m# we need to give `na_action=\"ignore\"` for categorical data.\u001b[39;00m\n\u001b[0;32m   1504\u001b[0m \u001b[38;5;66;03m# TODO: remove the `na_action=\"ignore\"` when that default has been changed in\u001b[39;00m\n\u001b[0;32m   1505\u001b[0m \u001b[38;5;66;03m#  Categorical (GH51645).\u001b[39;00m\n\u001b[0;32m   1506\u001b[0m action \u001b[38;5;241m=\u001b[39m \u001b[38;5;124m\"\u001b[39m\u001b[38;5;124mignore\u001b[39m\u001b[38;5;124m\"\u001b[39m \u001b[38;5;28;01mif\u001b[39;00m \u001b[38;5;28misinstance\u001b[39m(obj\u001b[38;5;241m.\u001b[39mdtype, CategoricalDtype) \u001b[38;5;28;01melse\u001b[39;00m \u001b[38;5;28;01mNone\u001b[39;00m\n\u001b[1;32m-> 1507\u001b[0m mapped \u001b[38;5;241m=\u001b[39m \u001b[43mobj\u001b[49m\u001b[38;5;241;43m.\u001b[39;49m\u001b[43m_map_values\u001b[49m\u001b[43m(\u001b[49m\n\u001b[0;32m   1508\u001b[0m \u001b[43m    \u001b[49m\u001b[43mmapper\u001b[49m\u001b[38;5;241;43m=\u001b[39;49m\u001b[43mcurried\u001b[49m\u001b[43m,\u001b[49m\u001b[43m \u001b[49m\u001b[43mna_action\u001b[49m\u001b[38;5;241;43m=\u001b[39;49m\u001b[43maction\u001b[49m\u001b[43m,\u001b[49m\u001b[43m \u001b[49m\u001b[43mconvert\u001b[49m\u001b[38;5;241;43m=\u001b[39;49m\u001b[38;5;28;43mself\u001b[39;49m\u001b[38;5;241;43m.\u001b[39;49m\u001b[43mconvert_dtype\u001b[49m\n\u001b[0;32m   1509\u001b[0m \u001b[43m\u001b[49m\u001b[43m)\u001b[49m\n\u001b[0;32m   1511\u001b[0m \u001b[38;5;28;01mif\u001b[39;00m \u001b[38;5;28mlen\u001b[39m(mapped) \u001b[38;5;129;01mand\u001b[39;00m \u001b[38;5;28misinstance\u001b[39m(mapped[\u001b[38;5;241m0\u001b[39m], ABCSeries):\n\u001b[0;32m   1512\u001b[0m     \u001b[38;5;66;03m# GH#43986 Need to do list(mapped) in order to get treated as nested\u001b[39;00m\n\u001b[0;32m   1513\u001b[0m     \u001b[38;5;66;03m#  See also GH#25959 regarding EA support\u001b[39;00m\n\u001b[0;32m   1514\u001b[0m     \u001b[38;5;28;01mreturn\u001b[39;00m obj\u001b[38;5;241m.\u001b[39m_constructor_expanddim(\u001b[38;5;28mlist\u001b[39m(mapped), index\u001b[38;5;241m=\u001b[39mobj\u001b[38;5;241m.\u001b[39mindex)\n",
      "File \u001b[1;32m~\\AppData\\Local\\Packages\\PythonSoftwareFoundation.Python.3.12_qbz5n2kfra8p0\\LocalCache\\local-packages\\Python312\\site-packages\\pandas\\core\\base.py:921\u001b[0m, in \u001b[0;36mIndexOpsMixin._map_values\u001b[1;34m(self, mapper, na_action, convert)\u001b[0m\n\u001b[0;32m    918\u001b[0m \u001b[38;5;28;01mif\u001b[39;00m \u001b[38;5;28misinstance\u001b[39m(arr, ExtensionArray):\n\u001b[0;32m    919\u001b[0m     \u001b[38;5;28;01mreturn\u001b[39;00m arr\u001b[38;5;241m.\u001b[39mmap(mapper, na_action\u001b[38;5;241m=\u001b[39mna_action)\n\u001b[1;32m--> 921\u001b[0m \u001b[38;5;28;01mreturn\u001b[39;00m \u001b[43malgorithms\u001b[49m\u001b[38;5;241;43m.\u001b[39;49m\u001b[43mmap_array\u001b[49m\u001b[43m(\u001b[49m\u001b[43marr\u001b[49m\u001b[43m,\u001b[49m\u001b[43m \u001b[49m\u001b[43mmapper\u001b[49m\u001b[43m,\u001b[49m\u001b[43m \u001b[49m\u001b[43mna_action\u001b[49m\u001b[38;5;241;43m=\u001b[39;49m\u001b[43mna_action\u001b[49m\u001b[43m,\u001b[49m\u001b[43m \u001b[49m\u001b[43mconvert\u001b[49m\u001b[38;5;241;43m=\u001b[39;49m\u001b[43mconvert\u001b[49m\u001b[43m)\u001b[49m\n",
      "File \u001b[1;32m~\\AppData\\Local\\Packages\\PythonSoftwareFoundation.Python.3.12_qbz5n2kfra8p0\\LocalCache\\local-packages\\Python312\\site-packages\\pandas\\core\\algorithms.py:1743\u001b[0m, in \u001b[0;36mmap_array\u001b[1;34m(arr, mapper, na_action, convert)\u001b[0m\n\u001b[0;32m   1741\u001b[0m values \u001b[38;5;241m=\u001b[39m arr\u001b[38;5;241m.\u001b[39mastype(\u001b[38;5;28mobject\u001b[39m, copy\u001b[38;5;241m=\u001b[39m\u001b[38;5;28;01mFalse\u001b[39;00m)\n\u001b[0;32m   1742\u001b[0m \u001b[38;5;28;01mif\u001b[39;00m na_action \u001b[38;5;129;01mis\u001b[39;00m \u001b[38;5;28;01mNone\u001b[39;00m:\n\u001b[1;32m-> 1743\u001b[0m     \u001b[38;5;28;01mreturn\u001b[39;00m \u001b[43mlib\u001b[49m\u001b[38;5;241;43m.\u001b[39;49m\u001b[43mmap_infer\u001b[49m\u001b[43m(\u001b[49m\u001b[43mvalues\u001b[49m\u001b[43m,\u001b[49m\u001b[43m \u001b[49m\u001b[43mmapper\u001b[49m\u001b[43m,\u001b[49m\u001b[43m \u001b[49m\u001b[43mconvert\u001b[49m\u001b[38;5;241;43m=\u001b[39;49m\u001b[43mconvert\u001b[49m\u001b[43m)\u001b[49m\n\u001b[0;32m   1744\u001b[0m \u001b[38;5;28;01melse\u001b[39;00m:\n\u001b[0;32m   1745\u001b[0m     \u001b[38;5;28;01mreturn\u001b[39;00m lib\u001b[38;5;241m.\u001b[39mmap_infer_mask(\n\u001b[0;32m   1746\u001b[0m         values, mapper, mask\u001b[38;5;241m=\u001b[39misna(values)\u001b[38;5;241m.\u001b[39mview(np\u001b[38;5;241m.\u001b[39muint8), convert\u001b[38;5;241m=\u001b[39mconvert\n\u001b[0;32m   1747\u001b[0m     )\n",
      "File \u001b[1;32mlib.pyx:2972\u001b[0m, in \u001b[0;36mpandas._libs.lib.map_infer\u001b[1;34m()\u001b[0m\n",
      "Cell \u001b[1;32mIn[19], line 11\u001b[0m, in \u001b[0;36m<lambda>\u001b[1;34m(x)\u001b[0m\n\u001b[0;32m      7\u001b[0m \u001b[38;5;28mprint\u001b[39m(data\u001b[38;5;241m.\u001b[39mhead())\n\u001b[0;32m      9\u001b[0m \u001b[38;5;66;03m# Step 1: Convert keywords list to a string\u001b[39;00m\n\u001b[0;32m     10\u001b[0m \u001b[38;5;66;03m# The keywords column is stored as a stringified list, so we need to convert it properly\u001b[39;00m\n\u001b[1;32m---> 11\u001b[0m data[\u001b[38;5;124m\"\u001b[39m\u001b[38;5;124mQuestion_Keywords\u001b[39m\u001b[38;5;124m\"\u001b[39m] \u001b[38;5;241m=\u001b[39m data[\u001b[38;5;124m\"\u001b[39m\u001b[38;5;124mQuestion_Keywords\u001b[39m\u001b[38;5;124m\"\u001b[39m]\u001b[38;5;241m.\u001b[39mapply(\u001b[38;5;28;01mlambda\u001b[39;00m x: \u001b[38;5;124m\"\u001b[39m\u001b[38;5;124m \u001b[39m\u001b[38;5;124m\"\u001b[39m\u001b[38;5;241m.\u001b[39mjoin(\u001b[43mast\u001b[49m\u001b[38;5;241;43m.\u001b[39;49m\u001b[43mliteral_eval\u001b[49m\u001b[43m(\u001b[49m\u001b[43mx\u001b[49m\u001b[43m)\u001b[49m))\n\u001b[0;32m     13\u001b[0m \u001b[38;5;66;03m# Step 2: Lowercase + remove punctuation (optional)\u001b[39;00m\n\u001b[0;32m     14\u001b[0m \u001b[38;5;28;01mdef\u001b[39;00m \u001b[38;5;21mclean_text\u001b[39m(text):\n",
      "File \u001b[1;32mC:\\Program Files\\WindowsApps\\PythonSoftwareFoundation.Python.3.12_3.12.2800.0_x64__qbz5n2kfra8p0\\Lib\\ast.py:112\u001b[0m, in \u001b[0;36mliteral_eval\u001b[1;34m(node_or_string)\u001b[0m\n\u001b[0;32m    110\u001b[0m                 \u001b[38;5;28;01mreturn\u001b[39;00m left \u001b[38;5;241m-\u001b[39m right\n\u001b[0;32m    111\u001b[0m     \u001b[38;5;28;01mreturn\u001b[39;00m _convert_signed_num(node)\n\u001b[1;32m--> 112\u001b[0m \u001b[38;5;28;01mreturn\u001b[39;00m \u001b[43m_convert\u001b[49m\u001b[43m(\u001b[49m\u001b[43mnode_or_string\u001b[49m\u001b[43m)\u001b[49m\n",
      "File \u001b[1;32mC:\\Program Files\\WindowsApps\\PythonSoftwareFoundation.Python.3.12_3.12.2800.0_x64__qbz5n2kfra8p0\\Lib\\ast.py:111\u001b[0m, in \u001b[0;36mliteral_eval.<locals>._convert\u001b[1;34m(node)\u001b[0m\n\u001b[0;32m    109\u001b[0m         \u001b[38;5;28;01melse\u001b[39;00m:\n\u001b[0;32m    110\u001b[0m             \u001b[38;5;28;01mreturn\u001b[39;00m left \u001b[38;5;241m-\u001b[39m right\n\u001b[1;32m--> 111\u001b[0m \u001b[38;5;28;01mreturn\u001b[39;00m \u001b[43m_convert_signed_num\u001b[49m\u001b[43m(\u001b[49m\u001b[43mnode\u001b[49m\u001b[43m)\u001b[49m\n",
      "File \u001b[1;32mC:\\Program Files\\WindowsApps\\PythonSoftwareFoundation.Python.3.12_3.12.2800.0_x64__qbz5n2kfra8p0\\Lib\\ast.py:85\u001b[0m, in \u001b[0;36mliteral_eval.<locals>._convert_signed_num\u001b[1;34m(node)\u001b[0m\n\u001b[0;32m     83\u001b[0m     \u001b[38;5;28;01melse\u001b[39;00m:\n\u001b[0;32m     84\u001b[0m         \u001b[38;5;28;01mreturn\u001b[39;00m \u001b[38;5;241m-\u001b[39m operand\n\u001b[1;32m---> 85\u001b[0m \u001b[38;5;28;01mreturn\u001b[39;00m \u001b[43m_convert_num\u001b[49m\u001b[43m(\u001b[49m\u001b[43mnode\u001b[49m\u001b[43m)\u001b[49m\n",
      "File \u001b[1;32mC:\\Program Files\\WindowsApps\\PythonSoftwareFoundation.Python.3.12_3.12.2800.0_x64__qbz5n2kfra8p0\\Lib\\ast.py:76\u001b[0m, in \u001b[0;36mliteral_eval.<locals>._convert_num\u001b[1;34m(node)\u001b[0m\n\u001b[0;32m     74\u001b[0m \u001b[38;5;28;01mdef\u001b[39;00m \u001b[38;5;21m_convert_num\u001b[39m(node):\n\u001b[0;32m     75\u001b[0m     \u001b[38;5;28;01mif\u001b[39;00m \u001b[38;5;129;01mnot\u001b[39;00m \u001b[38;5;28misinstance\u001b[39m(node, Constant) \u001b[38;5;129;01mor\u001b[39;00m \u001b[38;5;28mtype\u001b[39m(node\u001b[38;5;241m.\u001b[39mvalue) \u001b[38;5;129;01mnot\u001b[39;00m \u001b[38;5;129;01min\u001b[39;00m (\u001b[38;5;28mint\u001b[39m, \u001b[38;5;28mfloat\u001b[39m, \u001b[38;5;28mcomplex\u001b[39m):\n\u001b[1;32m---> 76\u001b[0m         \u001b[43m_raise_malformed_node\u001b[49m\u001b[43m(\u001b[49m\u001b[43mnode\u001b[49m\u001b[43m)\u001b[49m\n\u001b[0;32m     77\u001b[0m     \u001b[38;5;28;01mreturn\u001b[39;00m node\u001b[38;5;241m.\u001b[39mvalue\n",
      "File \u001b[1;32mC:\\Program Files\\WindowsApps\\PythonSoftwareFoundation.Python.3.12_3.12.2800.0_x64__qbz5n2kfra8p0\\Lib\\ast.py:73\u001b[0m, in \u001b[0;36mliteral_eval.<locals>._raise_malformed_node\u001b[1;34m(node)\u001b[0m\n\u001b[0;32m     71\u001b[0m \u001b[38;5;28;01mif\u001b[39;00m lno \u001b[38;5;241m:=\u001b[39m \u001b[38;5;28mgetattr\u001b[39m(node, \u001b[38;5;124m'\u001b[39m\u001b[38;5;124mlineno\u001b[39m\u001b[38;5;124m'\u001b[39m, \u001b[38;5;28;01mNone\u001b[39;00m):\n\u001b[0;32m     72\u001b[0m     msg \u001b[38;5;241m+\u001b[39m\u001b[38;5;241m=\u001b[39m \u001b[38;5;124mf\u001b[39m\u001b[38;5;124m'\u001b[39m\u001b[38;5;124m on line \u001b[39m\u001b[38;5;132;01m{\u001b[39;00mlno\u001b[38;5;132;01m}\u001b[39;00m\u001b[38;5;124m'\u001b[39m\n\u001b[1;32m---> 73\u001b[0m \u001b[38;5;28;01mraise\u001b[39;00m \u001b[38;5;167;01mValueError\u001b[39;00m(msg \u001b[38;5;241m+\u001b[39m \u001b[38;5;124mf\u001b[39m\u001b[38;5;124m'\u001b[39m\u001b[38;5;124m: \u001b[39m\u001b[38;5;132;01m{\u001b[39;00mnode\u001b[38;5;132;01m!r}\u001b[39;00m\u001b[38;5;124m'\u001b[39m)\n",
      "\u001b[1;31mValueError\u001b[0m: malformed node or string on line 1: <ast.Name object at 0x000001D199DDA610>"
     ]
    }
   ],
   "source": [
    "import ast\n",
    "import string\n",
    "from sklearn.model_selection import train_test_split\n",
    "from sklearn.feature_extraction.text import TfidfVectorizer\n",
    "\n",
    "# Optional: check first few rows\n",
    "print(data.head())\n",
    "\n",
    "# Step 1: Convert keywords list to a string\n",
    "# The keywords column is stored as a stringified list, so we need to convert it properly\n",
    "data[\"Question_Keywords\"] = data[\"Question_Keywords\"].apply(lambda x: \" \".join(ast.literal_eval(x)))\n",
    "\n",
    "# Step 2: Lowercase + remove punctuation (optional)\n",
    "def clean_text(text):\n",
    "    text = text.lower()\n",
    "    return text.translate(str.maketrans(\"\", \"\", string.punctuation))\n",
    "\n",
    "data[\"Question_Keywords\"] = data[\"Question_Keywords\"].apply(clean_text)\n",
    "\n",
    "# Step 3: TF-IDF Vectorization\n",
    "vectorizer = TfidfVectorizer()\n",
    "X = vectorizer.fit_transform(data[\"Question_Keywords\"])  # Features\n",
    "y = data[\"Answers\"]                            # Labels\n",
    "\n",
    "# Step 4: Train-test split (80% train, 20% test)\n",
    "X_train, X_test, y_train, y_test = train_test_split(X, y, test_size=0.2, random_state=42)\n"
   ]
  },
  {
   "cell_type": "code",
   "execution_count": null,
   "id": "ddf43bb2",
   "metadata": {},
   "outputs": [
    {
     "name": "stdout",
     "output_type": "stream",
     "text": [
      "<Compressed Sparse Row sparse matrix of dtype 'float64'\n",
      "\twith 11 stored elements and shape (5, 63)>\n",
      "  Coords\tValues\n",
      "  (0, 11)\t0.7071067811865476\n",
      "  (0, 55)\t0.7071067811865476\n",
      "  (1, 2)\t0.7763433097946119\n",
      "  (1, 17)\t0.6303102929011607\n",
      "  (2, 11)\t0.6239506464429062\n",
      "  (2, 17)\t0.5525783160799378\n",
      "  (2, 8)\t0.5525783160799378\n",
      "  (3, 55)\t0.7486261044942012\n",
      "  (3, 17)\t0.662992425047102\n",
      "  (4, 17)\t0.6303102929011607\n",
      "  (4, 16)\t0.7763433097946119\n"
     ]
    }
   ],
   "source": [
    "print(X[:5])"
   ]
  },
  {
   "cell_type": "markdown",
   "id": "0d871609",
   "metadata": {},
   "source": [
    "# **Naive Bayes**"
   ]
  },
  {
   "cell_type": "code",
   "execution_count": null,
   "id": "6fdf14a8",
   "metadata": {},
   "outputs": [
    {
     "name": "stdout",
     "output_type": "stream",
     "text": [
      "Model Accuracy: 15.79 %\n",
      "\n",
      "Classification Report:\n",
      "                                                                                                                                                                                                                                                     precision    recall  f1-score   support\n",
      "\n",
      "                                                                                                                                                                                                                        Hello, how can I help you?       0.00      0.00      0.00         0\n",
      "                                                                                                                                                                            The 'Sync Menu' button synchronizes the menu with the selected branch.       0.00      0.00      0.00         1\n",
      "                                                                                                  The barcode on the table is used for customer scanning purpose. It is used for booking an order by a customer without interaction of the waiter.       0.00      0.00      0.00         1\n",
      "                                                                                                                                                       The color theme section allows you to customize the appearance of your company's dashboard.       0.00      0.00      0.00         2\n",
      "To add a new product, 1st go to the dashboard section, then go to product's page. Click on 'Add Products and Category' button, choose category from the given ones or add a new category. Choose product from the given ones or add a new product.       0.00      0.00      0.00         2\n",
      "                                                                                                     To add a new product, go to dashboard > products page. Click 'Add Products and Category', select or create a category, then add your product.       0.50      1.00      0.67         1\n",
      "                                                                                                                                         To add an order, go to Orders > click 'Add Order'. Select products, add to cart, and click 'Place Order'.       0.00      0.00      0.00         1\n",
      "                                                                                                                    To change the logo, go to the dashboard > company page. Remove the current logo, add a new one, and click on 'Update' to save.       0.00      0.00      0.00         1\n",
      "                                                                                                                                                           To delete a branch, go to Branches > click 'Delete' next to the branch. Confirm action.       0.00      0.00      0.00         1\n",
      "                                                To manage discounts, go to the POS section, on the top right corner, you'll see a 'Manage Discounts' button. Click on it, adjust discounts, and then click on 'Submit' button to save the changes.       0.00      0.00      0.00         1\n",
      "                                                                                                                                                                        To track order status, go to Orders page. Check status column for updates.       0.00      0.00      0.00         2\n",
      "                                                                                                                                               To update branch address, go to dashboard > branch page. Add name, city, area, then click 'Update'.       0.00      0.00      0.00         1\n",
      "                                                                                                                                              To update branch location, go to dashboard > branch page. Add name, city, area, then click 'Update'.       0.00      0.00      0.00         1\n",
      "                                                                                                                                                     To update opening & closing time, go to dashboard > branch page. Update time fields and save.       1.00      0.50      0.67         2\n",
      "                                                                                                                                                           To update product price, go to dashboard > product page. Edit price and click 'Update'.       1.00      1.00      1.00         1\n",
      "                                                                                                                    To update the logo, go to the dashboard > company page. Remove the current logo, add a new one, and click on 'Update' to save.       0.00      0.00      0.00         1\n",
      "\n",
      "                                                                                                                                                                                                                                          accuracy                           0.16        19\n",
      "                                                                                                                                                                                                                                         macro avg       0.16      0.16      0.15        19\n",
      "                                                                                                                                                                                                                                      weighted avg       0.18      0.16      0.16        19\n",
      "\n"
     ]
    },
    {
     "name": "stderr",
     "output_type": "stream",
     "text": [
      "C:\\Users\\junai\\AppData\\Local\\Packages\\PythonSoftwareFoundation.Python.3.12_qbz5n2kfra8p0\\LocalCache\\local-packages\\Python312\\site-packages\\sklearn\\metrics\\_classification.py:1531: UndefinedMetricWarning: Precision is ill-defined and being set to 0.0 in labels with no predicted samples. Use `zero_division` parameter to control this behavior.\n",
      "  _warn_prf(average, modifier, f\"{metric.capitalize()} is\", len(result))\n",
      "C:\\Users\\junai\\AppData\\Local\\Packages\\PythonSoftwareFoundation.Python.3.12_qbz5n2kfra8p0\\LocalCache\\local-packages\\Python312\\site-packages\\sklearn\\metrics\\_classification.py:1531: UndefinedMetricWarning: Recall is ill-defined and being set to 0.0 in labels with no true samples. Use `zero_division` parameter to control this behavior.\n",
      "  _warn_prf(average, modifier, f\"{metric.capitalize()} is\", len(result))\n",
      "C:\\Users\\junai\\AppData\\Local\\Packages\\PythonSoftwareFoundation.Python.3.12_qbz5n2kfra8p0\\LocalCache\\local-packages\\Python312\\site-packages\\sklearn\\metrics\\_classification.py:1531: UndefinedMetricWarning: Precision is ill-defined and being set to 0.0 in labels with no predicted samples. Use `zero_division` parameter to control this behavior.\n",
      "  _warn_prf(average, modifier, f\"{metric.capitalize()} is\", len(result))\n",
      "C:\\Users\\junai\\AppData\\Local\\Packages\\PythonSoftwareFoundation.Python.3.12_qbz5n2kfra8p0\\LocalCache\\local-packages\\Python312\\site-packages\\sklearn\\metrics\\_classification.py:1531: UndefinedMetricWarning: Recall is ill-defined and being set to 0.0 in labels with no true samples. Use `zero_division` parameter to control this behavior.\n",
      "  _warn_prf(average, modifier, f\"{metric.capitalize()} is\", len(result))\n",
      "C:\\Users\\junai\\AppData\\Local\\Packages\\PythonSoftwareFoundation.Python.3.12_qbz5n2kfra8p0\\LocalCache\\local-packages\\Python312\\site-packages\\sklearn\\metrics\\_classification.py:1531: UndefinedMetricWarning: Precision is ill-defined and being set to 0.0 in labels with no predicted samples. Use `zero_division` parameter to control this behavior.\n",
      "  _warn_prf(average, modifier, f\"{metric.capitalize()} is\", len(result))\n",
      "C:\\Users\\junai\\AppData\\Local\\Packages\\PythonSoftwareFoundation.Python.3.12_qbz5n2kfra8p0\\LocalCache\\local-packages\\Python312\\site-packages\\sklearn\\metrics\\_classification.py:1531: UndefinedMetricWarning: Recall is ill-defined and being set to 0.0 in labels with no true samples. Use `zero_division` parameter to control this behavior.\n",
      "  _warn_prf(average, modifier, f\"{metric.capitalize()} is\", len(result))\n"
     ]
    }
   ],
   "source": [
    "from sklearn.naive_bayes import MultinomialNB\n",
    "from sklearn.metrics import accuracy_score, classification_report\n",
    "\n",
    "# Step 5: Train Naive Bayes model\n",
    "model = MultinomialNB()\n",
    "model.fit(X_train, y_train)\n",
    "\n",
    "# Step 6: Predict on test set\n",
    "y_pred = model.predict(X_test)\n",
    "\n",
    "# Step 7: Evaluate performance\n",
    "accuracy = accuracy_score(y_test, y_pred)\n",
    "report = classification_report(y_test, y_pred)\n",
    "\n",
    "print(\"Model Accuracy:\", round(accuracy * 100, 2), \"%\")\n",
    "print(\"\\nClassification Report:\\n\", report)"
   ]
  },
  {
   "cell_type": "markdown",
   "id": "d7aedd7e",
   "metadata": {},
   "source": [
    "# **RandomForest**"
   ]
  },
  {
   "cell_type": "code",
   "execution_count": null,
   "id": "4adc544a",
   "metadata": {},
   "outputs": [
    {
     "name": "stdout",
     "output_type": "stream",
     "text": [
      "Model Accuracy: 63.16 %\n",
      "\n",
      "Classification Report:\n",
      "                                                                                                                                                                                                                                                     precision    recall  f1-score   support\n",
      "\n",
      "                                                                                                                                                                            The 'Sync Menu' button synchronizes the menu with the selected branch.       0.50      1.00      0.67         1\n",
      "                                                                                                  The barcode on the table is used for customer scanning purpose. It is used for booking an order by a customer without interaction of the waiter.       1.00      1.00      1.00         1\n",
      "                                                                                                                                                       The color theme section allows you to customize the appearance of your company's dashboard.       1.00      1.00      1.00         2\n",
      "                                                                                                                                                              To add a branch, go to Branches > click 'Add Branch'. Enter info and click 'Submit'.       0.00      0.00      0.00         0\n",
      "To add a new product, 1st go to the dashboard section, then go to product's page. Click on 'Add Products and Category' button, choose category from the given ones or add a new category. Choose product from the given ones or add a new product.       0.00      0.00      0.00         2\n",
      "                                                                                                     To add a new product, go to dashboard > products page. Click 'Add Products and Category', select or create a category, then add your product.       0.50      1.00      0.67         1\n",
      "                                                                                                                                         To add an order, go to Orders > click 'Add Order'. Select products, add to cart, and click 'Place Order'.       0.33      1.00      0.50         1\n",
      "                                                                                                                    To change the logo, go to the dashboard > company page. Remove the current logo, add a new one, and click on 'Update' to save.       0.50      1.00      0.67         1\n",
      "                                                                                                                                                           To delete a branch, go to Branches > click 'Delete' next to the branch. Confirm action.       0.00      0.00      0.00         1\n",
      "                                                To manage discounts, go to the POS section, on the top right corner, you'll see a 'Manage Discounts' button. Click on it, adjust discounts, and then click on 'Submit' button to save the changes.       1.00      1.00      1.00         1\n",
      "                                                                                                                                                                        To track order status, go to Orders page. Check status column for updates.       0.00      0.00      0.00         2\n",
      "                                                                                                                                               To update branch address, go to dashboard > branch page. Add name, city, area, then click 'Update'.       1.00      1.00      1.00         1\n",
      "                                                                                                                                              To update branch location, go to dashboard > branch page. Add name, city, area, then click 'Update'.       0.00      0.00      0.00         1\n",
      "                                                                                                                                                     To update opening & closing time, go to dashboard > branch page. Update time fields and save.       1.00      1.00      1.00         2\n",
      "                                                                                                                                                           To update product price, go to dashboard > product page. Edit price and click 'Update'.       1.00      1.00      1.00         1\n",
      "                                                                                                                    To update the logo, go to the dashboard > company page. Remove the current logo, add a new one, and click on 'Update' to save.       0.00      0.00      0.00         1\n",
      "\n",
      "                                                                                                                                                                                                                                          accuracy                           0.63        19\n",
      "                                                                                                                                                                                                                                         macro avg       0.49      0.62      0.53        19\n",
      "                                                                                                                                                                                                                                      weighted avg       0.52      0.63      0.55        19\n",
      "\n"
     ]
    },
    {
     "name": "stderr",
     "output_type": "stream",
     "text": [
      "C:\\Users\\junai\\AppData\\Local\\Packages\\PythonSoftwareFoundation.Python.3.12_qbz5n2kfra8p0\\LocalCache\\local-packages\\Python312\\site-packages\\sklearn\\metrics\\_classification.py:1531: UndefinedMetricWarning: Precision is ill-defined and being set to 0.0 in labels with no predicted samples. Use `zero_division` parameter to control this behavior.\n",
      "  _warn_prf(average, modifier, f\"{metric.capitalize()} is\", len(result))\n",
      "C:\\Users\\junai\\AppData\\Local\\Packages\\PythonSoftwareFoundation.Python.3.12_qbz5n2kfra8p0\\LocalCache\\local-packages\\Python312\\site-packages\\sklearn\\metrics\\_classification.py:1531: UndefinedMetricWarning: Recall is ill-defined and being set to 0.0 in labels with no true samples. Use `zero_division` parameter to control this behavior.\n",
      "  _warn_prf(average, modifier, f\"{metric.capitalize()} is\", len(result))\n",
      "C:\\Users\\junai\\AppData\\Local\\Packages\\PythonSoftwareFoundation.Python.3.12_qbz5n2kfra8p0\\LocalCache\\local-packages\\Python312\\site-packages\\sklearn\\metrics\\_classification.py:1531: UndefinedMetricWarning: Precision is ill-defined and being set to 0.0 in labels with no predicted samples. Use `zero_division` parameter to control this behavior.\n",
      "  _warn_prf(average, modifier, f\"{metric.capitalize()} is\", len(result))\n",
      "C:\\Users\\junai\\AppData\\Local\\Packages\\PythonSoftwareFoundation.Python.3.12_qbz5n2kfra8p0\\LocalCache\\local-packages\\Python312\\site-packages\\sklearn\\metrics\\_classification.py:1531: UndefinedMetricWarning: Recall is ill-defined and being set to 0.0 in labels with no true samples. Use `zero_division` parameter to control this behavior.\n",
      "  _warn_prf(average, modifier, f\"{metric.capitalize()} is\", len(result))\n",
      "C:\\Users\\junai\\AppData\\Local\\Packages\\PythonSoftwareFoundation.Python.3.12_qbz5n2kfra8p0\\LocalCache\\local-packages\\Python312\\site-packages\\sklearn\\metrics\\_classification.py:1531: UndefinedMetricWarning: Precision is ill-defined and being set to 0.0 in labels with no predicted samples. Use `zero_division` parameter to control this behavior.\n",
      "  _warn_prf(average, modifier, f\"{metric.capitalize()} is\", len(result))\n",
      "C:\\Users\\junai\\AppData\\Local\\Packages\\PythonSoftwareFoundation.Python.3.12_qbz5n2kfra8p0\\LocalCache\\local-packages\\Python312\\site-packages\\sklearn\\metrics\\_classification.py:1531: UndefinedMetricWarning: Recall is ill-defined and being set to 0.0 in labels with no true samples. Use `zero_division` parameter to control this behavior.\n",
      "  _warn_prf(average, modifier, f\"{metric.capitalize()} is\", len(result))\n"
     ]
    }
   ],
   "source": [
    "from sklearn.ensemble import RandomForestClassifier\n",
    "\n",
    "model1 = RandomForestClassifier(n_estimators=100, random_state=42)\n",
    "model1.fit(X_train, y_train)\n",
    "\n",
    "y_pred = model1.predict(X_test)\n",
    "\n",
    "accuracy = accuracy_score(y_test, y_pred)\n",
    "print(\"Model Accuracy:\", round(accuracy * 100, 2), \"%\")\n",
    "print(\"\\nClassification Report:\\n\", classification_report(y_test, y_pred))"
   ]
  },
  {
   "cell_type": "code",
   "execution_count": null,
   "id": "34682930",
   "metadata": {},
   "outputs": [
    {
     "name": "stdout",
     "output_type": "stream",
     "text": [
      "Bot: Hello, how can I help you?\n"
     ]
    }
   ],
   "source": [
    "user_query = input(\"Ask me a question: \")\n",
    "user_query_clean = clean_text(user_query)\n",
    "user_vector = vectorizer.transform([user_query_clean])\n",
    "\n",
    "response = model.predict(user_vector)[0]\n",
    "print(\"Bot:\", response)"
   ]
  },
  {
   "cell_type": "markdown",
   "id": "040a4fab",
   "metadata": {},
   "source": [
    "Save Naive"
   ]
  },
  {
   "cell_type": "code",
   "execution_count": null,
   "id": "1fbad47d",
   "metadata": {},
   "outputs": [
    {
     "data": {
      "text/plain": [
       "['faq_model1.pkl']"
      ]
     },
     "execution_count": 12,
     "metadata": {},
     "output_type": "execute_result"
    }
   ],
   "source": [
    "import joblib\n",
    "\n",
    "# Save the model and vectorizer\n",
    "joblib.dump(model, \"faq_model.pkl\")\n",
    "joblib.dump(vectorizer, \"faq_vectorizer.pkl\")\n",
    "joblib.dump(model1, \"faq_model1.pkl\")"
   ]
  },
  {
   "cell_type": "code",
   "execution_count": null,
   "id": "ff3fcd99",
   "metadata": {},
   "outputs": [],
   "source": []
  }
 ],
 "metadata": {
  "kernelspec": {
   "display_name": "Python 3",
   "language": "python",
   "name": "python3"
  },
  "language_info": {
   "codemirror_mode": {
    "name": "ipython",
    "version": 3
   },
   "file_extension": ".py",
   "mimetype": "text/x-python",
   "name": "python",
   "nbconvert_exporter": "python",
   "pygments_lexer": "ipython3",
   "version": "3.12.10"
  }
 },
 "nbformat": 4,
 "nbformat_minor": 5
}
