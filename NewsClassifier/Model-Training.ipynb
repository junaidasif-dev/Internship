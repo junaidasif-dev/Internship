{
 "cells": [
  {
   "cell_type": "markdown",
   "metadata": {},
   "source": [
    "**Reload Embedding**"
   ]
  },
  {
   "cell_type": "code",
   "execution_count": 3,
   "metadata": {
    "execution": {
     "iopub.execute_input": "2025-05-14T05:43:40.578769Z",
     "iopub.status.busy": "2025-05-14T05:43:40.578482Z",
     "iopub.status.idle": "2025-05-14T05:43:43.299044Z",
     "shell.execute_reply": "2025-05-14T05:43:43.298244Z",
     "shell.execute_reply.started": "2025-05-14T05:43:40.578750Z"
    },
    "trusted": true
   },
   "outputs": [
    {
     "name": "stdout",
     "output_type": "stream",
     "text": [
      "Embeddings Reloaded\n"
     ]
    }
   ],
   "source": [
    "import numpy as np\n",
    "\n",
    "X_train = np.load(\"X_train.npy\")\n",
    "X_test = np.load(\"X_test.npy\")\n",
    "y_train = np.load(\"y_train.npy\")\n",
    "y_test = np.load(\"y_test.npy\")\n",
    "\n",
    "print(\"Embeddings Reloaded\")"
   ]
  },
  {
   "cell_type": "code",
   "execution_count": 7,
   "metadata": {
    "execution": {
     "iopub.execute_input": "2025-05-14T05:43:47.406154Z",
     "iopub.status.busy": "2025-05-14T05:43:47.405388Z",
     "iopub.status.idle": "2025-05-14T05:44:23.985337Z",
     "shell.execute_reply": "2025-05-14T05:44:23.984723Z",
     "shell.execute_reply.started": "2025-05-14T05:43:47.406122Z"
    },
    "trusted": true
   },
   "outputs": [],
   "source": [
    "from sentence_transformers import SentenceTransformer\n",
    "\n",
    "# Load embedding model\n",
    "embedder = SentenceTransformer('all-MiniLM-L6-v2')"
   ]
  },
  {
   "cell_type": "code",
   "execution_count": 8,
   "metadata": {
    "execution": {
     "iopub.execute_input": "2025-05-14T06:04:51.729378Z",
     "iopub.status.busy": "2025-05-14T06:04:51.728970Z",
     "iopub.status.idle": "2025-05-14T06:04:51.735295Z",
     "shell.execute_reply": "2025-05-14T06:04:51.734553Z",
     "shell.execute_reply.started": "2025-05-14T06:04:51.729353Z"
    },
    "trusted": true
   },
   "outputs": [
    {
     "data": {
      "text/plain": [
       "(120000, 384)"
      ]
     },
     "execution_count": 8,
     "metadata": {},
     "output_type": "execute_result"
    }
   ],
   "source": [
    "X_train.shape"
   ]
  },
  {
   "cell_type": "markdown",
   "metadata": {},
   "source": [
    "**LSTM Model**"
   ]
  },
  {
   "cell_type": "code",
   "execution_count": 9,
   "metadata": {},
   "outputs": [
    {
     "name": "stderr",
     "output_type": "stream",
     "text": [
      "C:\\Users\\junai\\AppData\\Local\\Packages\\PythonSoftwareFoundation.Python.3.12_qbz5n2kfra8p0\\LocalCache\\local-packages\\Python312\\site-packages\\keras\\src\\layers\\rnn\\rnn.py:200: UserWarning: Do not pass an `input_shape`/`input_dim` argument to a layer. When using Sequential models, prefer using an `Input(shape)` object as the first layer in the model instead.\n",
      "  super().__init__(**kwargs)\n"
     ]
    },
    {
     "name": "stdout",
     "output_type": "stream",
     "text": [
      "Epoch 1/5\n",
      "\u001b[1m1875/1875\u001b[0m \u001b[32m━━━━━━━━━━━━━━━━━━━━\u001b[0m\u001b[37m\u001b[0m \u001b[1m97s\u001b[0m 50ms/step - accuracy: 0.6478 - loss: 0.8621 - val_accuracy: 0.8130 - val_loss: 0.5161\n",
      "Epoch 2/5\n",
      "\u001b[1m1875/1875\u001b[0m \u001b[32m━━━━━━━━━━━━━━━━━━━━\u001b[0m\u001b[37m\u001b[0m \u001b[1m81s\u001b[0m 43ms/step - accuracy: 0.8259 - loss: 0.4791 - val_accuracy: 0.8453 - val_loss: 0.4329\n",
      "Epoch 3/5\n",
      "\u001b[1m1875/1875\u001b[0m \u001b[32m━━━━━━━━━━━━━━━━━━━━\u001b[0m\u001b[37m\u001b[0m \u001b[1m89s\u001b[0m 48ms/step - accuracy: 0.8516 - loss: 0.4196 - val_accuracy: 0.8524 - val_loss: 0.4107\n",
      "Epoch 4/5\n",
      "\u001b[1m1875/1875\u001b[0m \u001b[32m━━━━━━━━━━━━━━━━━━━━\u001b[0m\u001b[37m\u001b[0m \u001b[1m128s\u001b[0m 40ms/step - accuracy: 0.8649 - loss: 0.3822 - val_accuracy: 0.8624 - val_loss: 0.3932\n",
      "Epoch 5/5\n",
      "\u001b[1m1875/1875\u001b[0m \u001b[32m━━━━━━━━━━━━━━━━━━━━\u001b[0m\u001b[37m\u001b[0m \u001b[1m91s\u001b[0m 45ms/step - accuracy: 0.8717 - loss: 0.3633 - val_accuracy: 0.8668 - val_loss: 0.3694\n",
      "\u001b[1m119/119\u001b[0m \u001b[32m━━━━━━━━━━━━━━━━━━━━\u001b[0m\u001b[37m\u001b[0m \u001b[1m3s\u001b[0m 23ms/step - accuracy: 0.8654 - loss: 0.3821\n",
      "LSTM Accuracy: 86.68%\n"
     ]
    }
   ],
   "source": [
    "import tensorflow as tf\n",
    "from tensorflow.keras import layers, models\n",
    "import numpy as np\n",
    "\n",
    "# Reshape input to (batch_size, time_steps, input_dim) → (24, 16)\n",
    "X_train_reshaped = X_train.reshape(-1, 24, 16).astype(np.float32)\n",
    "X_test_reshaped = X_test.reshape(-1, 24, 16).astype(np.float32)\n",
    "\n",
    "# Ensure labels are int32\n",
    "y_train = y_train.astype(np.int32)\n",
    "y_test = y_test.astype(np.int32)\n",
    "\n",
    "# Define the LSTM model\n",
    "model = models.Sequential([\n",
    "    layers.LSTM(128, input_shape=(24, 16), return_sequences=False),\n",
    "    layers.Dense(4, activation='softmax')  # 4 classes for AG News\n",
    "])\n",
    "\n",
    "# Compile the model\n",
    "model.compile(optimizer='adam',\n",
    "              loss='sparse_categorical_crossentropy',\n",
    "              metrics=['accuracy'])\n",
    "\n",
    "# Train the model\n",
    "model.fit(X_train_reshaped, y_train, epochs=5, batch_size=64, validation_data=(X_test_reshaped, y_test))\n",
    "\n",
    "# Evaluate the model\n",
    "loss, accuracy = model.evaluate(X_test_reshaped, y_test, batch_size=64)\n",
    "print(f\"LSTM Accuracy: {accuracy * 100:.2f}%\")"
   ]
  },
  {
   "cell_type": "markdown",
   "metadata": {},
   "source": [
    "**Save Model**"
   ]
  },
  {
   "cell_type": "code",
   "execution_count": 12,
   "metadata": {},
   "outputs": [],
   "source": [
    "# Save the model\n",
    "\n",
    "model.save(\"lstm_model.keras\")"
   ]
  },
  {
   "cell_type": "markdown",
   "metadata": {},
   "source": [
    "**Test Case**"
   ]
  },
  {
   "cell_type": "code",
   "execution_count": 17,
   "metadata": {
    "execution": {
     "iopub.execute_input": "2025-05-14T05:59:12.896398Z",
     "iopub.status.busy": "2025-05-14T05:59:12.896094Z",
     "iopub.status.idle": "2025-05-14T05:59:40.564551Z",
     "shell.execute_reply": "2025-05-14T05:59:40.563902Z",
     "shell.execute_reply.started": "2025-05-14T05:59:12.896375Z"
    },
    "trusted": true
   },
   "outputs": [
    {
     "name": "stdout",
     "output_type": "stream",
     "text": [
      "Choose test case:\n",
      "1. Classify a single news input\n",
      "2. Classify each sentence from a paragraph/article\n",
      "3. Extract only 'Sports' news from a paragraph/article\n",
      "\n",
      "Available categories: World, Sports, Business, Sci/Tech\n",
      "\n",
      "🔍 Extracted 'Business' News:\n",
      "\u001b[1m1/1\u001b[0m \u001b[32m━━━━━━━━━━━━━━━━━━━━\u001b[0m\u001b[37m\u001b[0m \u001b[1m0s\u001b[0m 416ms/step\n",
      "\u001b[1m1/1\u001b[0m \u001b[32m━━━━━━━━━━━━━━━━━━━━\u001b[0m\u001b[37m\u001b[0m \u001b[1m0s\u001b[0m 87ms/step\n",
      "2. The stock market crashed due to inflation.\n",
      "\u001b[1m1/1\u001b[0m \u001b[32m━━━━━━━━━━━━━━━━━━━━\u001b[0m\u001b[37m\u001b[0m \u001b[1m0s\u001b[0m 155ms/step\n"
     ]
    }
   ],
   "source": [
    "import numpy as np\n",
    "from sentence_transformers import SentenceTransformer\n",
    "from tensorflow.keras.models import load_model\n",
    "import re\n",
    "\n",
    "# Load model and embedder\n",
    "model = load_model(\"lstm_model.keras\")\n",
    "embedder = SentenceTransformer('all-MiniLM-L6-v2')\n",
    "labels = [\"World\", \"Sports\", \"Business\", \"Sci/Tech\"]\n",
    "\n",
    "# Function to split text into sentences\n",
    "def split_into_sentences(text):\n",
    "    # You can improve this with better NLP sentence segmentation later\n",
    "    sentences = re.split(r'(?<=[.!?])\\s+', text.strip())\n",
    "    return [s.strip() for s in sentences if s.strip()]\n",
    "\n",
    "# Prediction for a single news text\n",
    "def predict_news_category_lstm(news_text):\n",
    "    embedded = embedder.encode([news_text])  # shape: (1, 384)\n",
    "    lstm_input = np.array(embedded).reshape(1, 24, 16).astype(np.float32)\n",
    "    predictions = model.predict(lstm_input)\n",
    "    predicted_class = np.argmax(predictions, axis=1)[0]\n",
    "    return labels[predicted_class]\n",
    "\n",
    "# ---------- TEST CASES ----------\n",
    "\n",
    "print(\"Choose test case:\")\n",
    "print(\"1. Classify a single news input\")\n",
    "print(\"2. Classify each sentence from a paragraph/article\")\n",
    "print(\"3. Extract only 'Sports' news from a paragraph/article\")\n",
    "\n",
    "choice = input(\"Enter 1, 2, or 3: \").strip()\n",
    "\n",
    "if choice == \"1\":\n",
    "    # Test Case 1\n",
    "    news = input(\"Enter a news: \")\n",
    "    category = predict_news_category_lstm(news)\n",
    "    print(\"Predicted Category (LSTM):\", category)\n",
    "\n",
    "elif choice == \"2\":\n",
    "    # Test Case 2\n",
    "    paragraph = input(\"Enter a full paragraph/article: \")\n",
    "    sentences = split_into_sentences(paragraph)\n",
    "    print(\"\\n🧠 Predictions for each sentence:\")\n",
    "    for i, sentence in enumerate(sentences):\n",
    "        category = predict_news_category_lstm(sentence)\n",
    "        print(f\"{i+1}. [{category}] {sentence}\")\n",
    "\n",
    "elif choice == \"3\":\n",
    "    # Test Case 3 (Generalized to any category)\n",
    "    print(\"\\nAvailable categories:\", \", \".join(labels))\n",
    "    target_category = input(\"Enter the category you want to extract: \").strip().title()\n",
    "\n",
    "    if target_category not in labels:\n",
    "        print(\"❌ Invalid category selected.\")\n",
    "    else:\n",
    "        paragraph = input(\"Enter a full paragraph/article: \")\n",
    "        sentences = split_into_sentences(paragraph)\n",
    "        print(f\"\\n🔍 Extracted '{target_category}' News:\")\n",
    "        found = False\n",
    "        for i, sentence in enumerate(sentences):\n",
    "            category = predict_news_category_lstm(sentence)\n",
    "            if category == target_category:\n",
    "                found = True\n",
    "                print(f\"{i+1}. {sentence}\")\n",
    "        if not found:\n",
    "            print(f\"No '{target_category}' content found.\")\n",
    "else:\n",
    "    print(\"❌ Invalid choice. Please enter 1, 2, or 3.\")\n"
   ]
  },
  {
   "cell_type": "code",
   "execution_count": 1,
   "metadata": {
    "trusted": true
   },
   "outputs": [
    {
     "name": "stdout",
     "output_type": "stream",
     "text": [
      "Name: tensorflow\n",
      "Version: 2.19.0\n",
      "Summary: TensorFlow is an open source machine learning framework for everyone.\n",
      "Home-page: https://www.tensorflow.org/\n",
      "Author: Google Inc.\n",
      "Author-email: packages@tensorflow.org\n",
      "License: Apache 2.0\n",
      "Location: C:\\Users\\junai\\AppData\\Local\\Packages\\PythonSoftwareFoundation.Python.3.12_qbz5n2kfra8p0\\LocalCache\\local-packages\\Python312\\site-packages\n",
      "Requires: absl-py, astunparse, flatbuffers, gast, google-pasta, grpcio, h5py, keras, libclang, ml-dtypes, numpy, opt-einsum, packaging, protobuf, requests, setuptools, six, tensorboard, termcolor, typing-extensions, wrapt\n",
      "Required-by: tf_keras\n",
      "Note: you may need to restart the kernel to use updated packages.\n"
     ]
    }
   ],
   "source": [
    "pip show tensorflow"
   ]
  },
  {
   "cell_type": "code",
   "execution_count": null,
   "metadata": {},
   "outputs": [],
   "source": []
  }
 ],
 "metadata": {
  "kaggle": {
   "accelerator": "nvidiaTeslaT4",
   "dataSources": [
    {
     "datasetId": 7347029,
     "sourceId": 11704953,
     "sourceType": "datasetVersion"
    }
   ],
   "dockerImageVersionId": 31041,
   "isGpuEnabled": true,
   "isInternetEnabled": true,
   "language": "python",
   "sourceType": "notebook"
  },
  "kernelspec": {
   "display_name": "Python 3",
   "language": "python",
   "name": "python3"
  },
  "language_info": {
   "codemirror_mode": {
    "name": "ipython",
    "version": 3
   },
   "file_extension": ".py",
   "mimetype": "text/x-python",
   "name": "python",
   "nbconvert_exporter": "python",
   "pygments_lexer": "ipython3",
   "version": "3.12.10"
  }
 },
 "nbformat": 4,
 "nbformat_minor": 4
}
